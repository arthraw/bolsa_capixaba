{
 "cells": [
  {
   "cell_type": "code",
   "id": "initial_id",
   "metadata": {
    "collapsed": true,
    "ExecuteTime": {
     "end_time": "2025-05-02T23:44:26.790654Z",
     "start_time": "2025-05-02T23:44:26.776429Z"
    }
   },
   "source": [
    "from pyspark.sql import SparkSession\n",
    "\n",
    "spark = SparkSession.builder.getOrCreate()"
   ],
   "outputs": [],
   "execution_count": 24
  },
  {
   "metadata": {
    "ExecuteTime": {
     "end_time": "2025-05-02T23:44:27.040323Z",
     "start_time": "2025-05-02T23:44:26.797167Z"
    }
   },
   "cell_type": "code",
   "source": "df_2012 = spark.read.csv(r'C:\\Users\\01\\Documents\\projetos\\bolsa_capixaba\\data\\bronze\\bolsacapixaba-2012.csv', header=True, inferSchema=True, sep=';')",
   "id": "2f9ac85b44c83e81",
   "outputs": [],
   "execution_count": 25
  },
  {
   "metadata": {},
   "cell_type": "markdown",
   "source": "### Colunas 2012",
   "id": "62217e3cf2dbd6c2"
  },
  {
   "metadata": {
    "ExecuteTime": {
     "end_time": "2025-05-02T23:44:27.071265Z",
     "start_time": "2025-05-02T23:44:27.058120Z"
    }
   },
   "cell_type": "code",
   "source": "df_2012.printSchema()",
   "id": "f56bbe8098acf4dc",
   "outputs": [
    {
     "name": "stdout",
     "output_type": "stream",
     "text": [
      "root\n",
      " |-- Ano: integer (nullable = true)\n",
      " |-- CodigoNIS: long (nullable = true)\n",
      " |-- NomeBeneficiario: string (nullable = true)\n",
      " |-- DataReferencia: string (nullable = true)\n",
      " |-- ValorBeneficioComp: string (nullable = true)\n",
      " |-- Municipio: string (nullable = true)\n",
      " |-- CodIBGE: integer (nullable = true)\n",
      " |-- Situacao: string (nullable = true)\n",
      " |-- Id: integer (nullable = true)\n",
      "\n"
     ]
    }
   ],
   "execution_count": 26
  },
  {
   "metadata": {
    "ExecuteTime": {
     "end_time": "2025-05-02T23:44:27.242318Z",
     "start_time": "2025-05-02T23:44:27.088285Z"
    }
   },
   "cell_type": "code",
   "source": "df_2025 = spark.read.csv(r'C:\\Users\\01\\Documents\\projetos\\bolsa_capixaba\\data\\bronze\\bolsacapixaba-2025.csv', header=True, inferSchema=True, sep=';')",
   "id": "2705bbb48f7085eb",
   "outputs": [],
   "execution_count": 27
  },
  {
   "metadata": {},
   "cell_type": "markdown",
   "source": "### Colunas 2025",
   "id": "a048bc8af429c3c3"
  },
  {
   "metadata": {
    "ExecuteTime": {
     "end_time": "2025-05-02T23:44:27.272734Z",
     "start_time": "2025-05-02T23:44:27.259491Z"
    }
   },
   "cell_type": "code",
   "source": "df_2025.printSchema()\n",
   "id": "bdd001fd9ecfc672",
   "outputs": [
    {
     "name": "stdout",
     "output_type": "stream",
     "text": [
      "root\n",
      " |-- Ano: integer (nullable = true)\n",
      " |-- CodigoNIS: long (nullable = true)\n",
      " |-- NomeBeneficiario: string (nullable = true)\n",
      " |-- DataReferencia: string (nullable = true)\n",
      " |-- ValorBeneficioComp: string (nullable = true)\n",
      " |-- Municipio: string (nullable = true)\n",
      " |-- CodIBGE: integer (nullable = true)\n",
      " |-- Situacao: string (nullable = true)\n",
      " |-- Id: integer (nullable = true)\n",
      "\n"
     ]
    }
   ],
   "execution_count": 28
  },
  {
   "metadata": {},
   "cell_type": "markdown",
   "source": "### Exemplo de linha para o ano de 2025",
   "id": "3fd1d7fe1e171bdf"
  },
  {
   "metadata": {
    "ExecuteTime": {
     "end_time": "2025-05-02T23:44:27.366166Z",
     "start_time": "2025-05-02T23:44:27.291350Z"
    }
   },
   "cell_type": "code",
   "source": "df_2025.head()",
   "id": "39009deb8dbf4674",
   "outputs": [
    {
     "data": {
      "text/plain": [
       "Row(Ano=2025, CodigoNIS=22003571905, NomeBeneficiario='JOAO RAPHAEL DOS SANTOS REZENDE SOARES DE OLIVEIRA', DataReferencia='01/01/2025 00:00:00', ValorBeneficioComp='146,0000', Municipio='Itapemirim', CodIBGE=3202801, Situacao='LIBERADO', Id=14064507)"
      ]
     },
     "execution_count": 29,
     "metadata": {},
     "output_type": "execute_result"
    }
   ],
   "execution_count": 29
  },
  {
   "metadata": {},
   "cell_type": "markdown",
   "source": "### Exemplo de linha para o ano de 2012",
   "id": "2e9fb649b09b28b"
  },
  {
   "metadata": {
    "ExecuteTime": {
     "end_time": "2025-05-02T23:44:27.464009Z",
     "start_time": "2025-05-02T23:44:27.384882Z"
    }
   },
   "cell_type": "code",
   "source": "df_2012.head()",
   "id": "8a98a6da0009443",
   "outputs": [
    {
     "data": {
      "text/plain": [
       "Row(Ano=2012, CodigoNIS=12692099291, NomeBeneficiario='MARINALVA PEREIRA DA CRUZ', DataReferencia='01/10/2012 00:00:00', ValorBeneficioComp='50,0000', Municipio='Cariacica', CodIBGE=3201308, Situacao='LIBERADO', Id=7324587)"
      ]
     },
     "execution_count": 30,
     "metadata": {},
     "output_type": "execute_result"
    }
   ],
   "execution_count": 30
  },
  {
   "metadata": {
    "ExecuteTime": {
     "end_time": "2025-05-02T23:44:27.494504Z",
     "start_time": "2025-05-02T23:44:27.481149Z"
    }
   },
   "cell_type": "code",
   "source": [
    "from pyspark.sql.functions import to_timestamp, to_date\n",
    "\n",
    "df_2025 = df_2025.withColumn(\n",
    "    \"DataReferencia\",\n",
    "    to_date(\"DataReferencia\", \"dd/MM/yyyy HH:mm:ss\")\n",
    ")"
   ],
   "id": "7c9637bbe784e17b",
   "outputs": [],
   "execution_count": 31
  },
  {
   "metadata": {
    "ExecuteTime": {
     "end_time": "2025-05-02T23:44:27.526191Z",
     "start_time": "2025-05-02T23:44:27.512171Z"
    }
   },
   "cell_type": "code",
   "source": "df_2025.printSchema()",
   "id": "a123c2ea1434bdf7",
   "outputs": [
    {
     "name": "stdout",
     "output_type": "stream",
     "text": [
      "root\n",
      " |-- Ano: integer (nullable = true)\n",
      " |-- CodigoNIS: long (nullable = true)\n",
      " |-- NomeBeneficiario: string (nullable = true)\n",
      " |-- DataReferencia: date (nullable = true)\n",
      " |-- ValorBeneficioComp: string (nullable = true)\n",
      " |-- Municipio: string (nullable = true)\n",
      " |-- CodIBGE: integer (nullable = true)\n",
      " |-- Situacao: string (nullable = true)\n",
      " |-- Id: integer (nullable = true)\n",
      "\n"
     ]
    }
   ],
   "execution_count": 32
  },
  {
   "metadata": {
    "ExecuteTime": {
     "end_time": "2025-05-02T23:44:27.681166Z",
     "start_time": "2025-05-02T23:44:27.543923Z"
    }
   },
   "cell_type": "code",
   "source": "df_2025.head()",
   "id": "ffea9e43bb2afe0e",
   "outputs": [
    {
     "data": {
      "text/plain": [
       "Row(Ano=2025, CodigoNIS=22003571905, NomeBeneficiario='JOAO RAPHAEL DOS SANTOS REZENDE SOARES DE OLIVEIRA', DataReferencia=datetime.date(2025, 1, 1), ValorBeneficioComp='146,0000', Municipio='Itapemirim', CodIBGE=3202801, Situacao='LIBERADO', Id=14064507)"
      ]
     },
     "execution_count": 33,
     "metadata": {},
     "output_type": "execute_result"
    }
   ],
   "execution_count": 33
  }
 ],
 "metadata": {
  "kernelspec": {
   "display_name": "Python 3",
   "language": "python",
   "name": "python3"
  },
  "language_info": {
   "codemirror_mode": {
    "name": "ipython",
    "version": 2
   },
   "file_extension": ".py",
   "mimetype": "text/x-python",
   "name": "python",
   "nbconvert_exporter": "python",
   "pygments_lexer": "ipython2",
   "version": "2.7.6"
  }
 },
 "nbformat": 4,
 "nbformat_minor": 5
}
